{
 "cells": [
  {
   "cell_type": "markdown",
   "id": "cf40720e-5989-4ce7-ba91-c9a7ed76da39",
   "metadata": {},
   "source": [
    "# 5.2 Defining interventions\n",
    "\n",
    "In this tutorial, you will learn how to add interventions to the model."
   ]
  },
  {
   "cell_type": "markdown",
   "id": "55de356a-f849-45ff-9f44-0c6aa5a41e0e",
   "metadata": {},
   "source": [
    "## Problem 1\n",
    "\n",
    "Define an intervention that is applied at a single point in time that increases the immunity of "
   ]
  },
  {
   "cell_type": "code",
   "execution_count": null,
   "id": "929e5f79-3eee-4d81-9d3a-429fc436d907",
   "metadata": {},
   "outputs": [],
   "source": [
    "import sciris as sc\n",
    "import numpy as np\n",
    "import pylab as pl\n",
    "import starsim as ss\n",
    "\n",
    "class Vaccine(ss.Intervention):\n",
    "    \n",
    "    def __init__(self, ti=10, p=0.5, boost=2.0, eligibility='susceptible'):\n",
    "        super().__init__()\n",
    "        # EXERCISE: store the time index of vaccination, the probability of it being \n",
    "        # applied, and the amount of immune boost\n",
    "        self.eligibility = eligibility\n",
    "    \n",
    "    def apply(self, sim):\n",
    "        if sim.ti == self.ti:\n",
    "            sis = sim.diseases.sis\n",
    "            if self.eligibility == 'susceptible':\n",
    "                eligible_ids = sim.people.uid[sis.susceptible]\n",
    "            else:\n",
    "                eligible_ids = sim.people.uid\n",
    "            n_eligible = len(eligible_ids)\n",
    "            \n",
    "            # EXERCISE: define the vaccine\n",
    "            is_vacc =  # Define people who get vaccinated using np.random.rand()\n",
    "            vacc_ids =  # Pull out the IDs for the people receiving the vaccine\n",
    "            sis.immunity[vacc_ids] = # Modify the immunity\n",
    "\n",
    "\n",
    "def make_run_sim(ti=10, p=0.5, boost=2.0, eligibility='susceptible'):\n",
    "\n",
    "    vx = Vaccine(ti=ti, p=p, boost=boost, eligibility=eligibility)\n",
    "    pars = dict(start=0, end=50, dt=1.0, diseases='sis', networks='random')\n",
    "    \n",
    "    # EXERCISE: define \"baseline\" and \"intervention\" sims without and with the vaccine\n",
    "    # [...]\n",
    "    \n",
    "    # EXERCISE: run the two simulations\n",
    "    # [...]\n",
    "    \n",
    "    tvec = baseline.yearvec\n",
    "    n_inf_base = baseline.results.sis.n_infected\n",
    "    n_inf_vacc = intervention.results.sis.n_infected\n",
    "    new_inf_base = baseline.results.sis.new_infections\n",
    "    new_inf_vacc = intervention.results.sis.new_infections\n",
    "    \n",
    "    pl.figure()\n",
    "    \n",
    "    # EXERCISE: plot n_inf\n",
    "    pl.subplot(2,1,1)\n",
    "    pl.title('Number of people infected')\n",
    "    # Plot baseline\n",
    "    # Plot vaccine\n",
    "    pl.axvline(tvec[vx.ti])\n",
    "    pl.legend()\n",
    "    \n",
    "    # EXERCISE: plot new_inf\n",
    "    pl.subplot(2,1,2)\n",
    "    pl.title('New infections')\n",
    "    # Plot baseline\n",
    "    # Plot vaccine\n",
    "    pl.axvline(tvec[vx.ti])\n",
    "    pl.legend()\n",
    "\n",
    "    sc.figlayout()\n",
    "    pl.show()\n",
    "    \n",
    "# Make, run, and plot the simulation\n",
    "make_run_sim()"
   ]
  },
  {
   "cell_type": "markdown",
   "id": "a7b1c5fe-ed26-4ee4-8854-28465d18fb60",
   "metadata": {},
   "source": [
    "## Solution 1"
   ]
  },
  {
   "cell_type": "code",
   "execution_count": null,
   "id": "a80cce13-0483-4e3f-b945-17c71e590e6f",
   "metadata": {},
   "outputs": [],
   "source": [
    "import sciris as sc\n",
    "import numpy as np\n",
    "import pylab as pl\n",
    "import starsim as ss\n",
    "\n",
    "class Vaccine(ss.Intervention):\n",
    "    \n",
    "    # EXERCISE: store the time index of vaccination, the probability of it being \n",
    "    # applied, and the amount of immune boost\n",
    "    def __init__(self, ti=10, p=0.5, boost=2.0, eligibility='susceptible'):\n",
    "        super().__init__()\n",
    "        self.ti = ti\n",
    "        self.p = p\n",
    "        self.boost = boost\n",
    "        self.eligibility = eligibility\n",
    "    \n",
    "    def apply(self, sim):\n",
    "        if sim.ti == self.ti:\n",
    "            sis = sim.diseases.sis\n",
    "            if self.eligibility == 'susceptible':\n",
    "                eligible_ids = sim.people.uid[sis.susceptible]\n",
    "            else:\n",
    "                eligible_ids = sim.people.uid\n",
    "            n_eligible = len(eligible_ids)\n",
    "            \n",
    "            # EXERCISE: define the vaccine\n",
    "            is_vacc = np.random.rand(n_eligible) < self.p # Define people who get vaccinated using np.random.rand()\n",
    "            vacc_ids = eligible_ids[is_vacc] # Pull out the IDs for the people receiving the vaccine\n",
    "            sis.immunity[vacc_ids] += self.boost # Modify the immunity\n",
    "\n",
    "\n",
    "def make_run_sim(ti=10, p=0.5, boost=2.0, eligibility='susceptible'):\n",
    "\n",
    "    vx = Vaccine(ti=ti, p=p, boost=boost, eligibility=eligibility)\n",
    "    pars = dict(start=0, end=50, dt=1.0, diseases='sis', networks='random')\n",
    "    \n",
    "    # EXERCISE: define \"baseline\" and \"intervention\" sims without and with the vaccine\n",
    "    baseline = ss.Sim(pars)\n",
    "    intervention = ss.Sim(pars, interventions=vx)\n",
    "    \n",
    "    # EXERCISE: run the two simulations\n",
    "    baseline.run()\n",
    "    intervention.run()\n",
    "    \n",
    "    tvec = baseline.yearvec\n",
    "    n_inf_base = baseline.results.sis.n_infected\n",
    "    n_inf_vacc = intervention.results.sis.n_infected\n",
    "    new_inf_base = baseline.results.sis.new_infections\n",
    "    new_inf_vacc = intervention.results.sis.new_infections\n",
    "    \n",
    "    pl.figure()\n",
    "    \n",
    "    # EXERCISE: plot n_inf\n",
    "    pl.subplot(2,1,1)\n",
    "    pl.title('Number of people infected')\n",
    "    pl.plot(tvec, n_inf_base, 'o-', label='Baseline') # Plot baseline\n",
    "    pl.plot(tvec, n_inf_vacc, 'o-', label='Vaccine') # Plot vaccine\n",
    "    pl.axvline(tvec[vx.ti])\n",
    "    pl.legend()\n",
    "    \n",
    "    # EXERCISE: plot new_inf\n",
    "    pl.subplot(2,1,2)\n",
    "    pl.title('New infections')\n",
    "    pl.plot(tvec, new_inf_base, 'o-', label='Baseline') # Plot baseline\n",
    "    pl.plot(tvec, new_inf_vacc, 'o-', label='Vaccine') # Plot vaccine\n",
    "    pl.axvline(tvec[vx.ti])\n",
    "    pl.legend()\n",
    "\n",
    "    sc.figlayout()\n",
    "    pl.show()\n",
    "    \n",
    "# Make, run, and plot the simulation\n",
    "make_run_sim()"
   ]
  },
  {
   "cell_type": "markdown",
   "id": "6b6edcfa-8a3f-4a25-b851-9f1b4bd00202",
   "metadata": {},
   "source": [
    "## Problem 2\n",
    "\n",
    "Explore the properties of the vaccine:\n",
    "\n",
    "- Confirm that with `p = 1.0`, a high boost, and everyone (not just susceptible people) eligible, that all transmission stops.\n",
    "- How do changes in `p` and `boost` affect the results?"
   ]
  },
  {
   "cell_type": "markdown",
   "id": "6fd0765f-980d-4c9a-a584-1b69d800eb7b",
   "metadata": {},
   "source": [
    "## Solution 2\n",
    "\n",
    "### Confirming stopping transmission"
   ]
  },
  {
   "cell_type": "code",
   "execution_count": null,
   "id": "0168af9f-c96a-4932-a60e-11d003b8d20d",
   "metadata": {},
   "outputs": [],
   "source": [
    "make_run_sim(p=1.0, boost=100, eligibility='all')"
   ]
  },
  {
   "cell_type": "markdown",
   "id": "ba79790e-7212-44f3-a40d-a515bc5ff415",
   "metadata": {},
   "source": [
    "### Exploring other parameter values"
   ]
  },
  {
   "cell_type": "code",
   "execution_count": null,
   "id": "d7242d3a-689c-4438-94ee-050e11cd837e",
   "metadata": {},
   "outputs": [],
   "source": [
    "make_run_sim(p=0.5, boost=2.0)\n",
    "make_run_sim(p=1.0, boost=1.0)"
   ]
  },
  {
   "cell_type": "code",
   "execution_count": null,
   "id": "de1af6c0-6aaa-4553-b9e6-0dcd2cc43f39",
   "metadata": {},
   "outputs": [],
   "source": []
  }
 ],
 "metadata": {
  "kernelspec": {
   "display_name": "Python 3 (ipykernel)",
   "language": "python",
   "name": "python3"
  },
  "language_info": {
   "codemirror_mode": {
    "name": "ipython",
    "version": 3
   },
   "file_extension": ".py",
   "mimetype": "text/x-python",
   "name": "python",
   "nbconvert_exporter": "python",
   "pygments_lexer": "ipython3",
   "version": "3.11.7"
  }
 },
 "nbformat": 4,
 "nbformat_minor": 5
}
