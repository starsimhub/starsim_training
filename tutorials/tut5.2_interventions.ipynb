{
 "cells": [
  {
   "cell_type": "markdown",
   "id": "cf40720e-5989-4ce7-ba91-c9a7ed76da39",
   "metadata": {},
   "source": [
    "# 5.2 Defining interventions\n",
    "\n",
    "In this tutorial, you will learn how to add interventions to the model."
   ]
  },
  {
   "cell_type": "markdown",
   "id": "55de356a-f849-45ff-9f44-0c6aa5a41e0e",
   "metadata": {},
   "source": [
    "## Problem\n",
    "\n",
    "Ideas from looking over the lecture:\n",
    "\n",
    "Do a protect_elderly example\n",
    "\n",
    "\n",
    "\n",
    "Participants define:\n",
    "\n",
    "Who is impacted by the intervention\n",
    "What is the magnitude of impact\n",
    "How does impact change over time\n",
    "Participants get instructions from lecture for model integration:\n",
    "\n",
    "Create a class for interventions\n",
    "Determine what values are needed to initialize a specific intervention\n",
    "Determine which agent and/or sim values need to change in the intervention\n",
    "Create function(s) to modify these changing params accordingly\n",
    "Create a function in the Simulation class that applies the intervention(s)"
   ]
  },
  {
   "cell_type": "code",
   "execution_count": null,
   "id": "929e5f79-3eee-4d81-9d3a-429fc436d907",
   "metadata": {},
   "outputs": [],
   "source": []
  },
  {
   "cell_type": "markdown",
   "id": "a7b1c5fe-ed26-4ee4-8854-28465d18fb60",
   "metadata": {},
   "source": [
    "## Solution\n",
    "\n",
    "TBC"
   ]
  },
  {
   "cell_type": "code",
   "execution_count": null,
   "id": "a80cce13-0483-4e3f-b945-17c71e590e6f",
   "metadata": {},
   "outputs": [],
   "source": []
  }
 ],
 "metadata": {
  "kernelspec": {
   "display_name": "Python 3 (ipykernel)",
   "language": "python",
   "name": "python3"
  },
  "language_info": {
   "codemirror_mode": {
    "name": "ipython",
    "version": 3
   },
   "file_extension": ".py",
   "mimetype": "text/x-python",
   "name": "python",
   "nbconvert_exporter": "python",
   "pygments_lexer": "ipython3",
   "version": "3.11.7"
  }
 },
 "nbformat": 4,
 "nbformat_minor": 5
}
