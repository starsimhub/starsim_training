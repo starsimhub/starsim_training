{
 "cells": [
  {
   "cell_type": "markdown",
   "id": "cf40720e-5989-4ce7-ba91-c9a7ed76da39",
   "metadata": {},
   "source": [
    "# 5.5 Modeling scenarios with uncertainty\n",
    "\n",
    "In this tutorial, you will learn how to put everything together: calibrate a model, design interventions, and assess their impact."
   ]
  },
  {
   "cell_type": "markdown",
   "id": "55de356a-f849-45ff-9f44-0c6aa5a41e0e",
   "metadata": {},
   "source": [
    "## Problem 1\n",
    "\n",
    "Consider we have data on two disease outbreaks. In the first outbreak ('baseline'), no intervention was applied. In the second outbreak, a vaccine was applied on the 10th day. Plot the following data to show the outbreaks."
   ]
  },
  {
   "cell_type": "code",
   "execution_count": null,
   "id": "929e5f79-3eee-4d81-9d3a-429fc436d907",
   "metadata": {},
   "outputs": [],
   "source": [
    "import sciris as sc\n",
    "import numpy as np\n",
    "import pylab as pl\n",
    "import starsim as ss\n",
    "\n",
    "data_baseline = np.array([\n",
    " 1,  1,  1,  1,  2,  4, 10, 15, 22, 31, 45, 59, 75, 83, 90, 89,\n",
    "85, 83, 79, 74, 64, 53, 46, 44, 43, 45, 51, 55, 57, 57, 61, 53,\n",
    "51, 48, 40, 34, 29, 27, 22, 18, 16, 13, 11, 12, 12, 12, 13, 13,\n",
    "14, 12, 13, 13, 13, 15, 17, 18, 19, 22, 24, 29, 38, 40, 44, 50,\n",
    "53, 55, 58, 56, 53, 52, 48, 42, 37, 31, 28, 19, 16, 15, 13, 13,\n",
    "12, 14, 13, 11, 13, 11, 13, 14, 15, 15, 13, 14, 16, 21, 21, 28,\n",
    "36, 40, 42, 48, 49])\n",
    "\n",
    "data_vaccine = np.array([\n",
    " 1,  1,  1,  1,  2,  4, 10, 15, 22, 31, 45, 48, 55, 58, 56, 53,\n",
    "49, 46, 38, 29, 24, 20, 17, 15, 16, 15, 20, 20, 21, 24, 26, 21,\n",
    "23, 23, 24, 22, 18, 16, 15, 14, 12,  8,  6,  6,  5,  6,  6,  4,\n",
    " 4,  3,  3,  3,  2,  4,  5,  7,  9, 10, 12, 14, 17, 19, 18, 20,\n",
    "22, 23, 25, 24, 23, 23, 19, 19, 19, 15, 14, 11, 11, 10,  7,  6,\n",
    " 6,  5,  3,  3,  1,  1,  0,  0,  0,  0,  0,  0,  0,  0,  0,  0,\n",
    " 0,  0,  0,  0,  0])\n",
    "\n",
    "# EXERCISE: plot data"
   ]
  },
  {
   "cell_type": "markdown",
   "id": "a7b1c5fe-ed26-4ee4-8854-28465d18fb60",
   "metadata": {},
   "source": [
    "## Solution 1"
   ]
  },
  {
   "cell_type": "code",
   "execution_count": null,
   "id": "a80cce13-0483-4e3f-b945-17c71e590e6f",
   "metadata": {},
   "outputs": [],
   "source": [
    "import sciris as sc\n",
    "import numpy as np\n",
    "import pylab as pl\n",
    "import starsim as ss\n",
    "\n",
    "data_baseline = np.array([\n",
    " 1,  1,  1,  1,  2,  4, 10, 15, 22, 31, 45, 59, 75, 83, 90, 89,\n",
    "85, 83, 79, 74, 64, 53, 46, 44, 43, 45, 51, 55, 57, 57, 61, 53,\n",
    "51, 48, 40, 34, 29, 27, 22, 18, 16, 13, 11, 12, 12, 12, 13, 13,\n",
    "14, 12, 13, 13, 13, 15, 17, 18, 19, 22, 24, 29, 38, 40, 44, 50,\n",
    "53, 55, 58, 56, 53, 52, 48, 42, 37, 31, 28, 19, 16, 15, 13, 13,\n",
    "12, 14, 13, 11, 13, 11, 13, 14, 15, 15, 13, 14, 16, 21, 21, 28,\n",
    "36, 40, 42, 48, 49])\n",
    "\n",
    "data_vaccine = np.array([\n",
    " 1,  1,  1,  1,  2,  4, 10, 15, 22, 31, 45, 48, 55, 58, 56, 53,\n",
    "49, 46, 38, 29, 24, 20, 17, 15, 16, 15, 20, 20, 21, 24, 26, 21,\n",
    "23, 23, 24, 22, 18, 16, 15, 14, 12,  8,  6,  6,  5,  6,  6,  4,\n",
    " 4,  3,  3,  3,  2,  4,  5,  7,  9, 10, 12, 14, 17, 19, 18, 20,\n",
    "22, 23, 25, 24, 23, 23, 19, 19, 19, 15, 14, 11, 11, 10,  7,  6,\n",
    " 6,  5,  3,  3,  1,  1,  0,  0,  0,  0,  0,  0,  0,  0,  0,  0,\n",
    " 0,  0,  0,  0,  0])\n",
    "\n",
    "# EXERCISE: plot data\n",
    "pl.figure()\n",
    "pl.plot(data_baseline, label='Baseline')\n",
    "pl.plot(data_vaccine, label='Vaccine')"
   ]
  },
  {
   "cell_type": "markdown",
   "id": "6feae99b-bfe9-4d0f-bace-611945750e5b",
   "metadata": {},
   "source": [
    "## Pro"
   ]
  }
 ],
 "metadata": {
  "kernelspec": {
   "display_name": "Python 3 (ipykernel)",
   "language": "python",
   "name": "python3"
  },
  "language_info": {
   "codemirror_mode": {
    "name": "ipython",
    "version": 3
   },
   "file_extension": ".py",
   "mimetype": "text/x-python",
   "name": "python",
   "nbconvert_exporter": "python",
   "pygments_lexer": "ipython3",
   "version": "3.11.7"
  }
 },
 "nbformat": 4,
 "nbformat_minor": 5
}
