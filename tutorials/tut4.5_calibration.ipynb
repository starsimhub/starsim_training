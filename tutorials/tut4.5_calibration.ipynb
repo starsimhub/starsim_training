{
 "cells": [
  {
   "cell_type": "markdown",
   "id": "cf40720e-5989-4ce7-ba91-c9a7ed76da39",
   "metadata": {},
   "source": [
    "# 4.5 Calibrating a model\n",
    "\n",
    "In this tutorial, you will learn how to calibrate an agent-based model."
   ]
  },
  {
   "cell_type": "markdown",
   "id": "55de356a-f849-45ff-9f44-0c6aa5a41e0e",
   "metadata": {},
   "source": [
    "## Problem 1\n",
    "\n",
    "We will calibrate the SIR model (beta and gamma) to some simple outbreak data."
   ]
  },
  {
   "cell_type": "code",
   "execution_count": null,
   "id": "929e5f79-3eee-4d81-9d3a-429fc436d907",
   "metadata": {},
   "outputs": [],
   "source": []
  },
  {
   "cell_type": "markdown",
   "id": "a7b1c5fe-ed26-4ee4-8854-28465d18fb60",
   "metadata": {},
   "source": [
    "## Solution 1"
   ]
  },
  {
   "cell_type": "code",
   "execution_count": null,
   "id": "a80cce13-0483-4e3f-b945-17c71e590e6f",
   "metadata": {},
   "outputs": [],
   "source": []
  },
  {
   "cell_type": "markdown",
   "id": "7249226a-9a42-46c6-8531-ac3c0fc286e5",
   "metadata": {},
   "source": [
    "## Problem 2\n",
    "\n",
    "Using a more realistic example, we will calibrate Starsim to some Kenya HIV data."
   ]
  },
  {
   "cell_type": "code",
   "execution_count": null,
   "id": "2d097b9b-7b62-4fd4-b5cc-73d13c7e422a",
   "metadata": {},
   "outputs": [],
   "source": []
  },
  {
   "cell_type": "markdown",
   "id": "7b4e7614-216c-4243-8ce9-56224662775c",
   "metadata": {},
   "source": [
    "## Solution 2"
   ]
  },
  {
   "cell_type": "code",
   "execution_count": null,
   "id": "67ac2ad5-ae7e-4756-8c38-d3cdf2862dea",
   "metadata": {},
   "outputs": [],
   "source": []
  }
 ],
 "metadata": {
  "kernelspec": {
   "display_name": "Python 3 (ipykernel)",
   "language": "python",
   "name": "python3"
  },
  "language_info": {
   "codemirror_mode": {
    "name": "ipython",
    "version": 3
   },
   "file_extension": ".py",
   "mimetype": "text/x-python",
   "name": "python",
   "nbconvert_exporter": "python",
   "pygments_lexer": "ipython3",
   "version": "3.11.7"
  }
 },
 "nbformat": 4,
 "nbformat_minor": 5
}
